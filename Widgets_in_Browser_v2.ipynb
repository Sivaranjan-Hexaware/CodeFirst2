{
 "cells": [
  {
   "cell_type": "code",
   "execution_count": 1,
   "id": "909c0907",
   "metadata": {},
   "outputs": [],
   "source": [
    "import warnings\n",
    "warnings.filterwarnings('ignore')\n",
    "\n",
    "import ipywidgets as widgets\n",
    "from IPython.display import display, clear_output"
   ]
  },
  {
   "cell_type": "code",
   "execution_count": 2,
   "id": "e556cfab",
   "metadata": {},
   "outputs": [],
   "source": [
    "#!jupyter nbextension enable --py widgetsnbextension --sys-prefix\n",
    "#!jupyter serverextension enable voila --sys-prefix"
   ]
  },
  {
   "cell_type": "code",
   "execution_count": 11,
   "id": "49e04ab7",
   "metadata": {},
   "outputs": [],
   "source": [
    "# Image Widget\n",
    "file = open(\"Amaze.JPG\", \"rb\")\n",
    "image = file.read()\n",
    "\n",
    "image_headline=widgets.Image(\n",
    "               value=image,\n",
    "               format='JPG',\n",
    "               width='500' \n",
    "            )\n",
    "label_headline=widgets.Label(\n",
    "                  value='Aim toolkit cover',\n",
    "                  style={'description_width': 'initial'}\n",
    "            )\n",
    "vbox_headline=widgets.VBox([image_headline,label_headline])                        "
   ]
  },
  {
   "cell_type": "code",
   "execution_count": 12,
   "id": "4535ce60",
   "metadata": {},
   "outputs": [],
   "source": [
    "# Team Mate Name\n",
    "grand = widgets.ToggleButtons(\n",
    "        options=['Steve_jobs','Bill_gates']\n",
    ")"
   ]
  },
  {
   "cell_type": "code",
   "execution_count": 13,
   "id": "ff2b8142",
   "metadata": {},
   "outputs": [],
   "source": [
    "# Name\n",
    "name=widgets.Text(placeholder = 'Your name here')"
   ]
  },
  {
   "cell_type": "code",
   "execution_count": 14,
   "id": "9343bb52",
   "metadata": {},
   "outputs": [],
   "source": [
    "# Date\n",
    "date = widgets.DatePicker(description='Chose the demo date') "
   ]
  },
  {
   "cell_type": "code",
   "execution_count": 15,
   "id": "15fdacfa",
   "metadata": {},
   "outputs": [],
   "source": [
    "# Number of people presetn for Demo\n",
    "Demo_team = widgets.IntSlider(\n",
    "                value=3, # default\n",
    "                min=0,\n",
    "                max=15,\n",
    "                step=1,\n",
    "                style={'description_width':'initial','handle_color':'#16a085'}\n",
    "         )"
   ]
  },
  {
   "cell_type": "code",
   "execution_count": 16,
   "id": "8c40f05d",
   "metadata": {},
   "outputs": [],
   "source": [
    "# Button to send\n",
    "Send_button =widgets.Button(\n",
    "            description='Send to Business',\n",
    "            tooltip='Send',\n",
    "            style={'description_width':'initial'}\n",
    "        )\n",
    "output=widgets.Output()\n",
    "\n",
    "def on_button_clicked(event):\n",
    "    with output:\n",
    "        clear_output()\n",
    "        print(\"Sent message: \")\n",
    "        print(f\"Hello Business Heads! This is the development lead {grand.value},{name.value}\")\n",
    "        print(f\"we are presenting the demo on {date.value} about AIM_toolkit, is that okay with you!\")\n",
    "        print(f\"Also, if you do not mind, I will bring my dev team of {Demo_team.value} members for this demo!\")\n",
    "Send_button.on_click(on_button_clicked)\n",
    "\n",
    "vbox_result=widgets.VBox([Send_button,output])"
   ]
  },
  {
   "cell_type": "code",
   "execution_count": 17,
   "id": "4c621892",
   "metadata": {},
   "outputs": [],
   "source": [
    "# stacked right hand side\n",
    "text_0 = widgets.HTML(value=\"<h1>Hello Business Heads!</h1>\")\n",
    "text_1 = widgets.HTML(value=\"<h2>This is the development lead</h2>\")\n",
    "text_2 = widgets.HTML(value=\"<h2>we are presenting the demo on</h2>\")\n",
    "text_3 = widgets.HTML(value=\"<h2>about AIM_toolkit, is that okay with you!</h2>\")\n",
    "text_4 = widgets.HTML(value=\"<h2>Also, if you do not mind, I will bring my dev team of </h2>\")\n",
    "text_5 = widgets.HTML(value=\"<h2>for this demo!</h2>\")\n",
    "\n",
    "vbox_text=widgets.VBox([text_0,text_1,grand,name,text_2,date,text_3,text_4,Demo_team,text_5,vbox_result])"
   ]
  },
  {
   "cell_type": "code",
   "execution_count": 18,
   "id": "356cfd9c",
   "metadata": {},
   "outputs": [
    {
     "data": {
      "application/vnd.jupyter.widget-view+json": {
       "model_id": "e59b4e09846c49668af595975c061262",
       "version_major": 2,
       "version_minor": 0
      },
      "text/plain": [
       "HBox(children=(VBox(children=(Image(value=b'\\x89PNG\\r\\n\\x1a\\n\\x00\\x00\\x00\\rIHDR\\x00\\x00\\x02\\xb5\\x00\\x00\\x00Y\\x…"
      ]
     },
     "metadata": {},
     "output_type": "display_data"
    }
   ],
   "source": [
    "page=widgets.HBox([vbox_headline,vbox_text])\n",
    "display(page)"
   ]
  },
  {
   "cell_type": "code",
   "execution_count": 19,
   "id": "55534d58",
   "metadata": {},
   "outputs": [],
   "source": [
    "!pip freeze >requirements.txt"
   ]
  },
  {
   "cell_type": "code",
   "execution_count": null,
   "id": "e6a287fe",
   "metadata": {},
   "outputs": [],
   "source": []
  }
 ],
 "metadata": {
  "kernelspec": {
   "display_name": "Python 3 (ipykernel)",
   "language": "python",
   "name": "python3"
  },
  "language_info": {
   "codemirror_mode": {
    "name": "ipython",
    "version": 3
   },
   "file_extension": ".py",
   "mimetype": "text/x-python",
   "name": "python",
   "nbconvert_exporter": "python",
   "pygments_lexer": "ipython3",
   "version": "3.9.7"
  }
 },
 "nbformat": 4,
 "nbformat_minor": 5
}
